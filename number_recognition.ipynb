{
 "cells": [
  {
   "attachments": {},
   "cell_type": "markdown",
   "metadata": {},
   "source": [
    "# imports"
   ]
  },
  {
   "cell_type": "code",
   "execution_count": 27,
   "metadata": {},
   "outputs": [],
   "source": [
    "import cv2\n",
    "import os\n",
    "import tkinter as tk\n",
    "import numpy as np\n",
    "import matplotlib.pyplot as plt\n",
    "import tensorflow as tf\n",
    "from tensorflow.keras import Sequential\n",
    "from tensorflow.keras.layers import Dense, Flatten, Conv2D, MaxPooling2D"
   ]
  },
  {
   "attachments": {},
   "cell_type": "markdown",
   "metadata": {},
   "source": [
    "# create the model"
   ]
  },
  {
   "cell_type": "code",
   "execution_count": 29,
   "metadata": {},
   "outputs": [],
   "source": [
    "model = Sequential([\n",
    "    Conv2D(32, (3, 3), activation='relu', input_shape=(28, 28, 1)),\n",
    "    MaxPooling2D((2, 2)),\n",
    "    Conv2D(64, (3, 3), activation='relu'),\n",
    "    MaxPooling2D((2, 2)),\n",
    "    Conv2D(64, (3, 3), activation='relu'),\n",
    "    Flatten(),\n",
    "    Dense(64, activation='relu'),\n",
    "    Dense(10)\n",
    "])\n",
    "\n",
    "model.compile(optimizer='adam',\n",
    "              loss=tf.keras.losses.SparseCategoricalCrossentropy(\n",
    "                  from_logits=True),\n",
    "              metrics=['accuracy'])\n"
   ]
  },
  {
   "cell_type": "markdown",
   "metadata": {},
   "source": [
    "# Load the MNIST dataset"
   ]
  },
  {
   "cell_type": "code",
   "execution_count": 15,
   "metadata": {},
   "outputs": [],
   "source": [
    "(train_images, train_labels), (test_images,\n",
    "                               test_labels) = tf.keras.datasets.mnist.load_data()\n"
   ]
  },
  {
   "attachments": {},
   "cell_type": "markdown",
   "metadata": {},
   "source": [
    "# train the model"
   ]
  },
  {
   "cell_type": "code",
   "execution_count": 30,
   "metadata": {},
   "outputs": [
    {
     "name": "stdout",
     "output_type": "stream",
     "text": [
      "Epoch 1/20\n",
      "1875/1875 [==============================] - 29s 14ms/step - loss: 0.2513 - accuracy: 0.9429\n",
      "Epoch 2/20\n",
      "1875/1875 [==============================] - 27s 15ms/step - loss: 0.0666 - accuracy: 0.9799\n",
      "Epoch 3/20\n",
      "1875/1875 [==============================] - 29s 15ms/step - loss: 0.0514 - accuracy: 0.9848\n",
      "Epoch 4/20\n",
      "1875/1875 [==============================] - 27s 14ms/step - loss: 0.0447 - accuracy: 0.9865\n",
      "Epoch 5/20\n",
      "1875/1875 [==============================] - 34s 18ms/step - loss: 0.0375 - accuracy: 0.9890\n",
      "Epoch 6/20\n",
      "1875/1875 [==============================] - 43s 23ms/step - loss: 0.0329 - accuracy: 0.9901\n",
      "Epoch 7/20\n",
      "1875/1875 [==============================] - 39s 21ms/step - loss: 0.0272 - accuracy: 0.9917\n",
      "Epoch 8/20\n",
      "1875/1875 [==============================] - 38s 20ms/step - loss: 0.0286 - accuracy: 0.9914\n",
      "Epoch 9/20\n",
      "1875/1875 [==============================] - 37s 20ms/step - loss: 0.0221 - accuracy: 0.9931\n",
      "Epoch 10/20\n",
      "1875/1875 [==============================] - 38s 20ms/step - loss: 0.0223 - accuracy: 0.9931\n",
      "Epoch 11/20\n",
      "1875/1875 [==============================] - 38s 20ms/step - loss: 0.0225 - accuracy: 0.9940\n",
      "Epoch 12/20\n",
      "1875/1875 [==============================] - 37s 20ms/step - loss: 0.0211 - accuracy: 0.9941\n",
      "Epoch 13/20\n",
      "1875/1875 [==============================] - 38s 20ms/step - loss: 0.0189 - accuracy: 0.9950\n",
      "Epoch 14/20\n",
      "1875/1875 [==============================] - 38s 20ms/step - loss: 0.0147 - accuracy: 0.9959\n",
      "Epoch 15/20\n",
      "1875/1875 [==============================] - 38s 20ms/step - loss: 0.0180 - accuracy: 0.9946\n",
      "Epoch 16/20\n",
      "1875/1875 [==============================] - 38s 20ms/step - loss: 0.0224 - accuracy: 0.9941\n",
      "Epoch 17/20\n",
      "1875/1875 [==============================] - 38s 20ms/step - loss: 0.0185 - accuracy: 0.9958\n",
      "Epoch 18/20\n",
      "1875/1875 [==============================] - 38s 20ms/step - loss: 0.0181 - accuracy: 0.9956\n",
      "Epoch 19/20\n",
      "1875/1875 [==============================] - 37s 20ms/step - loss: 0.0143 - accuracy: 0.9964\n",
      "Epoch 20/20\n",
      "1875/1875 [==============================] - 37s 20ms/step - loss: 0.0192 - accuracy: 0.9955\n"
     ]
    },
    {
     "data": {
      "text/plain": [
       "<keras.callbacks.History at 0x18acd0d4610>"
      ]
     },
     "execution_count": 30,
     "metadata": {},
     "output_type": "execute_result"
    }
   ],
   "source": [
    "model.fit(train_images, train_labels, epochs=20)"
   ]
  },
  {
   "attachments": {},
   "cell_type": "markdown",
   "metadata": {},
   "source": [
    "# test the model's accuracy"
   ]
  },
  {
   "cell_type": "code",
   "execution_count": 17,
   "metadata": {},
   "outputs": [
    {
     "name": "stdout",
     "output_type": "stream",
     "text": [
      "313/313 [==============================] - 1s 3ms/step - loss: 0.2055 - accuracy: 0.9571\n",
      "loss: 0.20551592111587524, accuracy: 0.957099974155426\n"
     ]
    }
   ],
   "source": [
    "loss, accuracy = model.evaluate(test_images,test_labels)\n",
    "\n",
    "print(f\"loss: {loss}, accuracy: {accuracy}\")"
   ]
  },
  {
   "attachments": {},
   "cell_type": "markdown",
   "metadata": {},
   "source": [
    "# save the model to file"
   ]
  },
  {
   "cell_type": "code",
   "execution_count": 48,
   "metadata": {},
   "outputs": [
    {
     "name": "stderr",
     "output_type": "stream",
     "text": [
      "WARNING:absl:Found untraced functions such as _jit_compiled_convolution_op, _jit_compiled_convolution_op, _jit_compiled_convolution_op, _update_step_xla while saving (showing 4 of 4). These functions will not be directly callable after loading.\n"
     ]
    },
    {
     "name": "stdout",
     "output_type": "stream",
     "text": [
      "INFO:tensorflow:Assets written to: number_recognition.model\\assets\n"
     ]
    },
    {
     "name": "stderr",
     "output_type": "stream",
     "text": [
      "INFO:tensorflow:Assets written to: number_recognition.model\\assets\n"
     ]
    }
   ],
   "source": [
    "model.save(\"number_recognition.model\")"
   ]
  },
  {
   "attachments": {},
   "cell_type": "markdown",
   "metadata": {},
   "source": [
    "# load model from file"
   ]
  },
  {
   "cell_type": "code",
   "execution_count": 3,
   "metadata": {},
   "outputs": [],
   "source": [
    "model = tf.keras.models.load_model(\"number_recognition.model\")"
   ]
  },
  {
   "attachments": {},
   "cell_type": "markdown",
   "metadata": {},
   "source": [
    "# make prediction from images in digits folder"
   ]
  },
  {
   "cell_type": "code",
   "execution_count": null,
   "metadata": {},
   "outputs": [],
   "source": [
    "files = os.listdir(\"digits\")\n",
    "\n",
    "for i in range(len(files)):\n",
    "    img = cv2.imread(f\"digits/{files[i]}\")[:, :, 0]\n",
    "    img = np.invert(np.array([img]))\n",
    "    prediction = model.predict(img)\n",
    "    plt.imshow(img[0])\n",
    "    plt.show()\n",
    "    print(f\"prediction: {np.argmax(prediction)}\")"
   ]
  },
  {
   "attachments": {},
   "cell_type": "markdown",
   "metadata": {},
   "source": [
    "# Draw and predict drawing"
   ]
  },
  {
   "cell_type": "code",
   "execution_count": 46,
   "metadata": {},
   "outputs": [
    {
     "name": "stdout",
     "output_type": "stream",
     "text": [
      "1/1 [==============================] - 0s 45ms/step\n",
      "prediction: 9\n"
     ]
    },
    {
     "data": {
      "image/png": "[encoded data removed]",
      "text/plain": [
       "<Figure size 640x480 with 1 Axes>"
      ]
     },
     "metadata": {},
     "output_type": "display_data"
    }
   ],
   "source": [
    "# Create a 28x28 black and white image\n",
    "img = np.zeros((280, 280), dtype=np.uint8)\n",
    "\n",
    "\n",
    "def paint(event):\n",
    "    # Get the x,y coordinates of the mouse\n",
    "    x1, y1 = (event.x - 10), (event.y - 10)\n",
    "    x2, y2 = (event.x + 10), (event.y + 10)\n",
    "\n",
    "    # Draw a rectangle at the mouse position\n",
    "    canvas.create_rectangle(x1, y1, x2, y2, fill=\"black\")\n",
    "\n",
    "    # Update the image array with the new pixel values\n",
    "    img[y1:y2, x1:x2] = 255\n",
    "\n",
    "\n",
    "def save_image():\n",
    "    # Resize and Save the image to a numpy array\n",
    "    img2 = np.array([cv2.resize(img, dsize=(28, 28), interpolation=cv2.INTER_CUBIC)])\n",
    "\n",
    "    plt.imshow(img2[0])\n",
    "\n",
    "    print(f\"prediction: {np.argmax(model.predict(img2))}\")\n",
    "\n",
    "    root.destroy()\n",
    "\n",
    "\n",
    "# Create a window with a drawing canvas\n",
    "root = tk.Tk()\n",
    "canvas = tk.Canvas(root, width=280, height=280)\n",
    "canvas.pack(expand=tk.YES, fill=tk.BOTH)\n",
    "canvas.bind(\"<B1-Motion>\", paint)\n",
    "\n",
    "# Add a button to save the image\n",
    "button = tk.Button(root, text=\"Save Image\", command=save_image)\n",
    "button.pack()\n",
    "\n",
    "root.mainloop()\n"
   ]
  },
  {
   "cell_type": "code",
   "execution_count": null,
   "metadata": {},
   "outputs": [],
   "source": []
  }
 ],
 "metadata": {
  "kernelspec": {
   "display_name": "Python 3",
   "language": "python",
   "name": "python3"
  },
  "language_info": {
   "codemirror_mode": {
    "name": "ipython",
    "version": 3
   },
   "file_extension": ".py",
   "mimetype": "text/x-python",
   "name": "python",
   "nbconvert_exporter": "python",
   "pygments_lexer": "ipython3",
   "version": "3.11.2"
  },
  "orig_nbformat": 4
 },
 "nbformat": 4,
 "nbformat_minor": 2
}
